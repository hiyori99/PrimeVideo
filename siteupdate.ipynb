{
  "nbformat": 4,
  "nbformat_minor": 0,
  "metadata": {
    "colab": {
      "name": "siteupdate.ipynb",
      "provenance": []
    },
    "kernelspec": {
      "name": "python3",
      "display_name": "Python 3"
    },
    "language_info": {
      "name": "python"
    }
  },
  "cells": [
    {
      "cell_type": "code",
      "source": [
        "!pip3 install slackweb"
      ],
      "metadata": {
        "id": "S-_xxBYEPqIn"
      },
      "execution_count": null,
      "outputs": []
    },
    {
      "cell_type": "code",
      "execution_count": null,
      "metadata": {
        "id": "0MBMkrCJPero"
      },
      "outputs": [],
      "source": [
        "# ライブラリインポート\n",
        "import csv\n",
        "import os\n",
        "import sys\n",
        "import requests\n",
        "import slackweb\n",
        "import pandas as pd\n",
        "from bs4 import BeautifulSoup\n",
        "from urllib import request\n",
        "import pprint\n",
        "import slackweb"
      ]
    },
    {
      "cell_type": "code",
      "source": [
        "# 取得したい情報をスクレイピングする\n",
        "headers_dic = {\"User-Agent\": \"Mozilla/5.0 (Windows NT 10.0; Win64; x64) AppleWebKit/537.36 (KHTML, like Gecko) Chrome/78.0.3904.97 Safari/537.36\"}\n",
        "url = 'サイトのURL'\n",
        "r = requests.get(url, headers=headers_dic)\n",
        "soup = BeautifulSoup(r.text, 'html.parser')\n",
        "\n",
        "# 取得したエピソードの題名をリストに格納する\n",
        "result = []\n",
        "for episode in soup.find_all(class_='取得したい箇所のクラス名'):\n",
        "    result.append([\n",
        "        episode.text\n",
        "    ])\n",
        "print(result)"
      ],
      "metadata": {
        "id": "FLvXjDs3PsO9"
      },
      "execution_count": null,
      "outputs": []
    },
    {
      "cell_type": "code",
      "source": [
        "# googleドライブにアクセスする\n",
        "from google.colab import drive\n",
        "drive.mount('/content/drive/')"
      ],
      "metadata": {
        "id": "uKbzt9vTQdrn"
      },
      "execution_count": null,
      "outputs": []
    },
    {
      "cell_type": "code",
      "source": [
        "# googleドライブにあらかじめ空のcsvファイルを作成しておく\n",
        "# csvファイルにアクセスする\n",
        "with open('/content/drive/My Drive/Colab Notebooks/last_log.csv') as f:\n",
        "    print(f.read())"
      ],
      "metadata": {
        "id": "IfRT3Pt0QkB8"
      },
      "execution_count": null,
      "outputs": []
    },
    {
      "cell_type": "code",
      "source": [
        "if not os.path.exists('/content/drive/My Drive/Colab Notebooks/last_log.csv'):\n",
        "    raise Exception('ファイルがありません。')\n",
        "if os.path.getsize('/content/drive/My Drive/Colab Notebooks/last_log.csv') == 0:\n",
        "    raise Exception('ファイルの中身が空です。')\n",
        "\n",
        "# アクセスしたcsvファイルの内容をリストに格納する\n",
        "csv_list = pd.read_csv('/content/drive/My Drive/Colab Notebooks/last_log.csv').values.tolist()\n",
        "print(csv_list)\n",
        "\n",
        "# エピソードの更新を待たずにコードを確かめたいので、故意にリストの末尾を削除して差分を作る\n",
        "csv_list.pop(-1)\n",
        "print(csv_list)"
      ],
      "metadata": {
        "id": "5h-n7_EDQ4A0"
      },
      "execution_count": null,
      "outputs": []
    },
    {
      "cell_type": "code",
      "source": [
        "# csvファイルに取得したエピソードの情報を書き込む\n",
        "with open('/content/drive/My Drive/Colab Notebooks/last_log.csv', 'w', newline='',encoding='utf_8') as file:\n",
        "    headers = ['Title']\n",
        "    writer = csv.writer(file)\n",
        "    writer.writerow(headers)\n",
        "    for row in result:\n",
        "        writer.writerow(row)"
      ],
      "metadata": {
        "id": "6NPAPaQ5RWyJ"
      },
      "execution_count": null,
      "outputs": []
    },
    {
      "cell_type": "code",
      "source": [
        "# 取得したエピソードの情報と1つ前に保存したcsvとの中身を比較して差分だけ新たなリストに格納する\n",
        "return_list = []\n",
        "for tmp in result:\n",
        "    if tmp not in csv_list:\n",
        "        return_list.append(tmp)\n",
        "print(return_list)\n",
        "\n",
        "# リストの内容を全て文字列に変換する\n",
        "# slackに通知する時に文字列に変換しないとエラーが出るため\n",
        "diff = ''.join(map(str, return_list))\n",
        "print(diff)"
      ],
      "metadata": {
        "id": "ZapeqU7ORrgi"
      },
      "execution_count": null,
      "outputs": []
    },
    {
      "cell_type": "code",
      "source": [
        "# あらかじめslackのWebhook URLを取得しておく\n",
        "# 前のコードで比較した差分があればslackに通知する\n",
        "if return_list:\n",
        "    text = '<!channel>\\nSPY×FAMILYのエピソードが追加されました\\n' #@channelメンション\n",
        "    text += diff+ '\\n'\n",
        "    slack  = slackweb.Slack(url='コピーしたWebhook URL')\n",
        "    slack.notify(text=text)"
      ],
      "metadata": {
        "id": "9E50NMhDSgMn"
      },
      "execution_count": null,
      "outputs": []
    }
  ]
}